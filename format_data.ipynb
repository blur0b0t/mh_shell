{
 "cells": [
  {
   "cell_type": "code",
   "execution_count": 2,
   "metadata": {},
   "outputs": [],
   "source": [
    "import pandas as pd"
   ]
  },
  {
   "cell_type": "code",
   "execution_count": 3,
   "metadata": {},
   "outputs": [],
   "source": [
    "data_path=\"data/datafinal.json\"\n",
    "f_traind_path=\"data/f_traind.csv\"\n",
    "\n",
    "# vars\n",
    "col_text='Text'\n",
    "col_cc='ContainsCode'\n",
    "col_cl='CodeList'\n"
   ]
  },
  {
   "cell_type": "code",
   "execution_count": 5,
   "metadata": {},
   "outputs": [],
   "source": [
    "full_data=pd.read_json(data_path)\n",
    "train_data=full_data[full_data[col_cc]!=\"\"]\n",
    "test_data=full_data[full_data[col_cc]==\"\"]\n",
    "# pprint(train_data.iloc[1,1])\n",
    "train_data=train_data[[col_text,col_cl]]\n",
    "train_data=train_data.reset_index(drop=True)\n",
    "train_data[col_cl]=train_data[col_cl].apply(lambda x: \"none\" if x==\"\" else x)\n",
    "train_data.columns=['input','output']\n",
    "instruction=\"extract code snippets from the paragraph, if it does not contain code snippets then say none\"\n",
    "train_data=pd.concat([train_data['input'],pd.Series([instruction]*len(train_data),name='instruction'),train_data['output'] ],axis=1)\n",
    "train_data\n",
    "train_data\n",
    "# train_data[train_data[col_cl]!='none']\n",
    "train_data.to_csv(f_traind_path,index=False)"
   ]
  },
  {
   "cell_type": "code",
   "execution_count": 17,
   "metadata": {},
   "outputs": [
    {
     "data": {
      "text/html": [
       "<div>\n",
       "<style scoped>\n",
       "    .dataframe tbody tr th:only-of-type {\n",
       "        vertical-align: middle;\n",
       "    }\n",
       "\n",
       "    .dataframe tbody tr th {\n",
       "        vertical-align: top;\n",
       "    }\n",
       "\n",
       "    .dataframe thead th {\n",
       "        text-align: right;\n",
       "    }\n",
       "</style>\n",
       "<table border=\"1\" class=\"dataframe\">\n",
       "  <thead>\n",
       "    <tr style=\"text-align: right;\">\n",
       "      <th></th>\n",
       "      <th>Text</th>\n",
       "      <th>CodeList</th>\n",
       "    </tr>\n",
       "  </thead>\n",
       "  <tbody>\n",
       "    <tr>\n",
       "      <th>0</th>\n",
       "      <td>Software development is an exciting field that...</td>\n",
       "      <td>none</td>\n",
       "    </tr>\n",
       "    <tr>\n",
       "      <th>1</th>\n",
       "      <td>Another important aspect of software developme...</td>\n",
       "      <td>git commit -m 'Initial commit'</td>\n",
       "    </tr>\n",
       "    <tr>\n",
       "      <th>2</th>\n",
       "      <td>In the world of software development, language...</td>\n",
       "      <td>none</td>\n",
       "    </tr>\n",
       "    <tr>\n",
       "      <th>3</th>\n",
       "      <td>Software development is an intricate process t...</td>\n",
       "      <td>none</td>\n",
       "    </tr>\n",
       "    <tr>\n",
       "      <th>4</th>\n",
       "      <td>In this modern era, software development has i...</td>\n",
       "      <td>public class HelloWorld { public static void m...</td>\n",
       "    </tr>\n",
       "    <tr>\n",
       "      <th>...</th>\n",
       "      <td>...</td>\n",
       "      <td>...</td>\n",
       "    </tr>\n",
       "    <tr>\n",
       "      <th>1372</th>\n",
       "      <td>Software development is more than just coding....</td>\n",
       "      <td>none</td>\n",
       "    </tr>\n",
       "    <tr>\n",
       "      <th>1373</th>\n",
       "      <td>One of the most popular languages for software...</td>\n",
       "      <td>public class HelloWorld {\\npublic static void ...</td>\n",
       "    </tr>\n",
       "    <tr>\n",
       "      <th>1374</th>\n",
       "      <td>Software development, an integral part of any ...</td>\n",
       "      <td>List&lt;String&gt; names = new ArrayList&lt;String&gt;();</td>\n",
       "    </tr>\n",
       "    <tr>\n",
       "      <th>1375</th>\n",
       "      <td>In the world of software development, one of t...</td>\n",
       "      <td>none</td>\n",
       "    </tr>\n",
       "    <tr>\n",
       "      <th>1376</th>\n",
       "      <td>Mobile app development is a type of software d...</td>\n",
       "      <td>none</td>\n",
       "    </tr>\n",
       "  </tbody>\n",
       "</table>\n",
       "<p>1377 rows × 2 columns</p>\n",
       "</div>"
      ],
      "text/plain": [
       "                                                   Text  \\\n",
       "0     Software development is an exciting field that...   \n",
       "1     Another important aspect of software developme...   \n",
       "2     In the world of software development, language...   \n",
       "3     Software development is an intricate process t...   \n",
       "4     In this modern era, software development has i...   \n",
       "...                                                 ...   \n",
       "1372  Software development is more than just coding....   \n",
       "1373  One of the most popular languages for software...   \n",
       "1374  Software development, an integral part of any ...   \n",
       "1375  In the world of software development, one of t...   \n",
       "1376  Mobile app development is a type of software d...   \n",
       "\n",
       "                                               CodeList  \n",
       "0                                                  none  \n",
       "1                        git commit -m 'Initial commit'  \n",
       "2                                                  none  \n",
       "3                                                  none  \n",
       "4     public class HelloWorld { public static void m...  \n",
       "...                                                 ...  \n",
       "1372                                               none  \n",
       "1373  public class HelloWorld {\\npublic static void ...  \n",
       "1374      List<String> names = new ArrayList<String>();  \n",
       "1375                                               none  \n",
       "1376                                               none  \n",
       "\n",
       "[1377 rows x 2 columns]"
      ]
     },
     "execution_count": 17,
     "metadata": {},
     "output_type": "execute_result"
    }
   ],
   "source": [
    "f_traind=pd.read_csv(f_traind_path)\n",
    "f_traind.isna().sum()\n",
    "f_traind"
   ]
  },
  {
   "cell_type": "code",
   "execution_count": null,
   "metadata": {},
   "outputs": [],
   "source": []
  },
  {
   "cell_type": "code",
   "execution_count": null,
   "metadata": {},
   "outputs": [],
   "source": []
  },
  {
   "cell_type": "code",
   "execution_count": null,
   "metadata": {},
   "outputs": [],
   "source": []
  },
  {
   "cell_type": "code",
   "execution_count": null,
   "metadata": {},
   "outputs": [],
   "source": []
  },
  {
   "cell_type": "code",
   "execution_count": null,
   "metadata": {},
   "outputs": [],
   "source": []
  }
 ],
 "metadata": {
  "kernelspec": {
   "display_name": "base",
   "language": "python",
   "name": "python3"
  },
  "language_info": {
   "codemirror_mode": {
    "name": "ipython",
    "version": 3
   },
   "file_extension": ".py",
   "mimetype": "text/x-python",
   "name": "python",
   "nbconvert_exporter": "python",
   "pygments_lexer": "ipython3",
   "version": "3.10.10"
  },
  "orig_nbformat": 4
 },
 "nbformat": 4,
 "nbformat_minor": 2
}
