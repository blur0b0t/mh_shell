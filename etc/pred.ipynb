{
 "cells": [
  {
   "cell_type": "code",
   "execution_count": 11,
   "metadata": {},
   "outputs": [],
   "source": [
    "# !pip install transformers\n",
    "import numpy as np\n",
    "import pandas as pd\n",
    "\n",
    "from tokenizers import AddedToken\n",
    "from transformers import T5Tokenizer"
   ]
  },
  {
   "cell_type": "code",
   "execution_count": 12,
   "metadata": {},
   "outputs": [],
   "source": [
    "data_path=\"data/datafinal.json\"\n",
    "ftraind_path=\"data/f_traind.csv\"\n",
    "fdata_path=\"data/f_data.csv\"\n",
    "\n",
    "\n",
    "submission_path=\"data/submission.csv\"\n",
    "\n",
    "# vars\n",
    "col_text='Text'\n",
    "col_cc='ContainsCode'\n",
    "col_cl='CodeList'\n"
   ]
  },
  {
   "cell_type": "code",
   "execution_count": 13,
   "metadata": {},
   "outputs": [
    {
     "data": {
      "text/plain": [
       "ID                                                             11\n",
       "Text            The field of software development is incredibl...\n",
       "ContainsCode                                                 True\n",
       "CodeList        #include <iostream> using namespace std; int m...\n",
       "Name: 10, dtype: object"
      ]
     },
     "execution_count": 13,
     "metadata": {},
     "output_type": "execute_result"
    }
   ],
   "source": [
    "full_data=pd.read_json(data_path)\n",
    "ftrain_data=pd.read_csv(ftraind_path)\n",
    "f_data=pd.read_csv(ftraind_path)\n",
    "\n",
    "train_data=full_data[full_data[col_cc]!=\"\"]\n",
    "test_data=full_data[full_data[col_cc]==\"\"]\n",
    "# pprint(train_data.iloc[1,1])\n",
    "train_data\n",
    "full_data.iloc[10]\n",
    "# full_data.to_csv(\"/home/u131168/mh_shell/data/datafinal.csv\")"
   ]
  },
  {
   "cell_type": "code",
   "execution_count": 14,
   "metadata": {},
   "outputs": [],
   "source": [
    "mh_dir='mh_shell'"
   ]
  },
  {
   "cell_type": "code",
   "execution_count": 15,
   "metadata": {},
   "outputs": [],
   "source": [
    "# !pip install bitsandbytes\n",
    "# !pip install accelerate\n",
    "# !pip install scipy\n",
    "# !pip install transformers\n",
    "# !pip install peft"
   ]
  },
  {
   "cell_type": "code",
   "execution_count": 16,
   "metadata": {},
   "outputs": [],
   "source": [
    "def getTokenizer():\n",
    "    \n",
    "    tokenizer = T5Tokenizer.from_pretrained(\"google/flan-t5-xl\")\n",
    "    # stokens_v1=[\"`\",\"~\",\"!\",\"@\",\"#\",\"$\",\"%\",\"^\",\"&\",\"*\",\"(\",\")\",\"-\",\"_\",\"+\",\"=\",\"{\",\"}\",\"[\",\"]\",\"|\",\"\\\\\",\":\",\";\",\"\\\"\",\"'\",\"<\",\">\",\"?\",\"/\",\"\\n\",\"\\t\",\" \"]\n",
    "    # stokens_v2=[\"{\",\"}\",\"<\",\"<<\"]\n",
    "    stokens_v3=[\"{\",\"}\",\"<\",\"`\",\"\\\\\"]\n",
    "    stokens=stokens_v3\n",
    "    for st in stokens:\n",
    "        tokenizer.add_tokens(AddedToken(st, normalized=False),special_tokens=False)\n",
    "    return tokenizer\n",
    "    \n",
    "    "
   ]
  },
  {
   "cell_type": "code",
   "execution_count": 17,
   "metadata": {},
   "outputs": [
    {
     "name": "stderr",
     "output_type": "stream",
     "text": [
      "Loading checkpoint shards:   0%|          | 0/2 [00:42<?, ?it/s]\n"
     ]
    },
    {
     "ename": "KeyboardInterrupt",
     "evalue": "",
     "output_type": "error",
     "traceback": [
      "\u001b[0;31m---------------------------------------------------------------------------\u001b[0m",
      "\u001b[0;31mKeyboardInterrupt\u001b[0m                         Traceback (most recent call last)",
      "\u001b[1;32m/home/u131168/mh_shell/pred.ipynb Cell 7\u001b[0m line \u001b[0;36m1\n\u001b[1;32m      <a href='vscode-notebook-cell://tunnel%2Bmh_one_api/home/u131168/mh_shell/pred.ipynb#W6sdnNjb2RlLXJlbW90ZQ%3D%3D?line=3'>4</a>\u001b[0m \u001b[39m# model_path=\"google/flan-t5-xl\"\u001b[39;00m\n\u001b[1;32m      <a href='vscode-notebook-cell://tunnel%2Bmh_one_api/home/u131168/mh_shell/pred.ipynb#W6sdnNjb2RlLXJlbW90ZQ%3D%3D?line=4'>5</a>\u001b[0m \u001b[39m# model_path=f\"/home/u131168/{mh_dir}/ft_models/flan-t5-xl_peft_finetuned_model/checkpoint-11700\"\u001b[39;00m\n\u001b[1;32m      <a href='vscode-notebook-cell://tunnel%2Bmh_one_api/home/u131168/mh_shell/pred.ipynb#W6sdnNjb2RlLXJlbW90ZQ%3D%3D?line=5'>6</a>\u001b[0m \u001b[39m# model_path=f\"/home/u131168/{mh_dir}/ft_models/flan-t5-xl_mt5/checkpoint-34600\"\u001b[39;00m\n\u001b[1;32m      <a href='vscode-notebook-cell://tunnel%2Bmh_one_api/home/u131168/mh_shell/pred.ipynb#W6sdnNjb2RlLXJlbW90ZQ%3D%3D?line=7'>8</a>\u001b[0m model_path\u001b[39m=\u001b[39m\u001b[39mf\u001b[39m\u001b[39m\"\u001b[39m\u001b[39m/home/u131168/\u001b[39m\u001b[39m{\u001b[39;00mmh_dir\u001b[39m}\u001b[39;00m\u001b[39m/ft_models/flan-t5-xl_mt5_v3/checkpoint-25000\u001b[39m\u001b[39m\"\u001b[39m\n\u001b[0;32m---> <a href='vscode-notebook-cell://tunnel%2Bmh_one_api/home/u131168/mh_shell/pred.ipynb#W6sdnNjb2RlLXJlbW90ZQ%3D%3D?line=12'>13</a>\u001b[0m custom_model \u001b[39m=\u001b[39m AutoPeftModelForSeq2SeqLM\u001b[39m.\u001b[39;49mfrom_pretrained(model_path, )\n\u001b[1;32m     <a href='vscode-notebook-cell://tunnel%2Bmh_one_api/home/u131168/mh_shell/pred.ipynb#W6sdnNjb2RlLXJlbW90ZQ%3D%3D?line=14'>15</a>\u001b[0m \u001b[39m# tokenizer = T5Tokenizer.from_pretrained(model_path)\u001b[39;00m\n\u001b[1;32m     <a href='vscode-notebook-cell://tunnel%2Bmh_one_api/home/u131168/mh_shell/pred.ipynb#W6sdnNjb2RlLXJlbW90ZQ%3D%3D?line=15'>16</a>\u001b[0m \u001b[39m# tokenizer = AutoTokenizer.from_pretrained(\"google/flan-t5-xl\")\u001b[39;00m\n\u001b[1;32m     <a href='vscode-notebook-cell://tunnel%2Bmh_one_api/home/u131168/mh_shell/pred.ipynb#W6sdnNjb2RlLXJlbW90ZQ%3D%3D?line=17'>18</a>\u001b[0m tokenizer\u001b[39m=\u001b[39mgetTokenizer()\n",
      "File \u001b[0;32m~/.local/lib/python3.10/site-packages/peft/auto.py:101\u001b[0m, in \u001b[0;36m_BaseAutoPeftModel.from_pretrained\u001b[0;34m(cls, pretrained_model_name_or_path, adapter_name, is_trainable, config, **kwargs)\u001b[0m\n\u001b[1;32m     96\u001b[0m \u001b[39melse\u001b[39;00m:\n\u001b[1;32m     97\u001b[0m     \u001b[39mraise\u001b[39;00m \u001b[39mValueError\u001b[39;00m(\n\u001b[1;32m     98\u001b[0m         \u001b[39m\"\u001b[39m\u001b[39mCannot infer the auto class from the config, please make sure that you are loading the correct model for your task type.\u001b[39m\u001b[39m\"\u001b[39m\n\u001b[1;32m     99\u001b[0m     )\n\u001b[0;32m--> 101\u001b[0m base_model \u001b[39m=\u001b[39m target_class\u001b[39m.\u001b[39;49mfrom_pretrained(base_model_path, \u001b[39m*\u001b[39;49m\u001b[39m*\u001b[39;49mkwargs)\n\u001b[1;32m    103\u001b[0m \u001b[39mreturn\u001b[39;00m \u001b[39mcls\u001b[39m\u001b[39m.\u001b[39m_target_peft_class\u001b[39m.\u001b[39mfrom_pretrained(\n\u001b[1;32m    104\u001b[0m     base_model,\n\u001b[1;32m    105\u001b[0m     pretrained_model_name_or_path,\n\u001b[0;32m   (...)\u001b[0m\n\u001b[1;32m    109\u001b[0m     \u001b[39m*\u001b[39m\u001b[39m*\u001b[39mkwargs,\n\u001b[1;32m    110\u001b[0m )\n",
      "File \u001b[0;32m~/.local/lib/python3.10/site-packages/transformers/models/auto/auto_factory.py:565\u001b[0m, in \u001b[0;36m_BaseAutoModelClass.from_pretrained\u001b[0;34m(cls, pretrained_model_name_or_path, *model_args, **kwargs)\u001b[0m\n\u001b[1;32m    563\u001b[0m \u001b[39melif\u001b[39;00m \u001b[39mtype\u001b[39m(config) \u001b[39min\u001b[39;00m \u001b[39mcls\u001b[39m\u001b[39m.\u001b[39m_model_mapping\u001b[39m.\u001b[39mkeys():\n\u001b[1;32m    564\u001b[0m     model_class \u001b[39m=\u001b[39m _get_model_class(config, \u001b[39mcls\u001b[39m\u001b[39m.\u001b[39m_model_mapping)\n\u001b[0;32m--> 565\u001b[0m     \u001b[39mreturn\u001b[39;00m model_class\u001b[39m.\u001b[39;49mfrom_pretrained(\n\u001b[1;32m    566\u001b[0m         pretrained_model_name_or_path, \u001b[39m*\u001b[39;49mmodel_args, config\u001b[39m=\u001b[39;49mconfig, \u001b[39m*\u001b[39;49m\u001b[39m*\u001b[39;49mhub_kwargs, \u001b[39m*\u001b[39;49m\u001b[39m*\u001b[39;49mkwargs\n\u001b[1;32m    567\u001b[0m     )\n\u001b[1;32m    568\u001b[0m \u001b[39mraise\u001b[39;00m \u001b[39mValueError\u001b[39;00m(\n\u001b[1;32m    569\u001b[0m     \u001b[39mf\u001b[39m\u001b[39m\"\u001b[39m\u001b[39mUnrecognized configuration class \u001b[39m\u001b[39m{\u001b[39;00mconfig\u001b[39m.\u001b[39m\u001b[39m__class__\u001b[39m\u001b[39m}\u001b[39;00m\u001b[39m for this kind of AutoModel: \u001b[39m\u001b[39m{\u001b[39;00m\u001b[39mcls\u001b[39m\u001b[39m.\u001b[39m\u001b[39m__name__\u001b[39m\u001b[39m}\u001b[39;00m\u001b[39m.\u001b[39m\u001b[39m\\n\u001b[39;00m\u001b[39m\"\u001b[39m\n\u001b[1;32m    570\u001b[0m     \u001b[39mf\u001b[39m\u001b[39m\"\u001b[39m\u001b[39mModel type should be one of \u001b[39m\u001b[39m{\u001b[39;00m\u001b[39m'\u001b[39m\u001b[39m, \u001b[39m\u001b[39m'\u001b[39m\u001b[39m.\u001b[39mjoin(c\u001b[39m.\u001b[39m\u001b[39m__name__\u001b[39m\u001b[39m \u001b[39m\u001b[39mfor\u001b[39;00m\u001b[39m \u001b[39mc\u001b[39m \u001b[39m\u001b[39min\u001b[39;00m\u001b[39m \u001b[39m\u001b[39mcls\u001b[39m\u001b[39m.\u001b[39m_model_mapping\u001b[39m.\u001b[39mkeys())\u001b[39m}\u001b[39;00m\u001b[39m.\u001b[39m\u001b[39m\"\u001b[39m\n\u001b[1;32m    571\u001b[0m )\n",
      "File \u001b[0;32m~/.local/lib/python3.10/site-packages/transformers/modeling_utils.py:3307\u001b[0m, in \u001b[0;36mPreTrainedModel.from_pretrained\u001b[0;34m(cls, pretrained_model_name_or_path, config, cache_dir, ignore_mismatched_sizes, force_download, local_files_only, token, revision, use_safetensors, *model_args, **kwargs)\u001b[0m\n\u001b[1;32m   3297\u001b[0m     \u001b[39mif\u001b[39;00m dtype_orig \u001b[39mis\u001b[39;00m \u001b[39mnot\u001b[39;00m \u001b[39mNone\u001b[39;00m:\n\u001b[1;32m   3298\u001b[0m         torch\u001b[39m.\u001b[39mset_default_dtype(dtype_orig)\n\u001b[1;32m   3300\u001b[0m     (\n\u001b[1;32m   3301\u001b[0m         model,\n\u001b[1;32m   3302\u001b[0m         missing_keys,\n\u001b[1;32m   3303\u001b[0m         unexpected_keys,\n\u001b[1;32m   3304\u001b[0m         mismatched_keys,\n\u001b[1;32m   3305\u001b[0m         offload_index,\n\u001b[1;32m   3306\u001b[0m         error_msgs,\n\u001b[0;32m-> 3307\u001b[0m     ) \u001b[39m=\u001b[39m \u001b[39mcls\u001b[39;49m\u001b[39m.\u001b[39;49m_load_pretrained_model(\n\u001b[1;32m   3308\u001b[0m         model,\n\u001b[1;32m   3309\u001b[0m         state_dict,\n\u001b[1;32m   3310\u001b[0m         loaded_state_dict_keys,  \u001b[39m# XXX: rename?\u001b[39;49;00m\n\u001b[1;32m   3311\u001b[0m         resolved_archive_file,\n\u001b[1;32m   3312\u001b[0m         pretrained_model_name_or_path,\n\u001b[1;32m   3313\u001b[0m         ignore_mismatched_sizes\u001b[39m=\u001b[39;49mignore_mismatched_sizes,\n\u001b[1;32m   3314\u001b[0m         sharded_metadata\u001b[39m=\u001b[39;49msharded_metadata,\n\u001b[1;32m   3315\u001b[0m         _fast_init\u001b[39m=\u001b[39;49m_fast_init,\n\u001b[1;32m   3316\u001b[0m         low_cpu_mem_usage\u001b[39m=\u001b[39;49mlow_cpu_mem_usage,\n\u001b[1;32m   3317\u001b[0m         device_map\u001b[39m=\u001b[39;49mdevice_map,\n\u001b[1;32m   3318\u001b[0m         offload_folder\u001b[39m=\u001b[39;49moffload_folder,\n\u001b[1;32m   3319\u001b[0m         offload_state_dict\u001b[39m=\u001b[39;49moffload_state_dict,\n\u001b[1;32m   3320\u001b[0m         dtype\u001b[39m=\u001b[39;49mtorch_dtype,\n\u001b[1;32m   3321\u001b[0m         is_quantized\u001b[39m=\u001b[39;49m(\u001b[39mgetattr\u001b[39;49m(model, \u001b[39m\"\u001b[39;49m\u001b[39mquantization_method\u001b[39;49m\u001b[39m\"\u001b[39;49m, \u001b[39mNone\u001b[39;49;00m) \u001b[39m==\u001b[39;49m QuantizationMethod\u001b[39m.\u001b[39;49mBITS_AND_BYTES),\n\u001b[1;32m   3322\u001b[0m         keep_in_fp32_modules\u001b[39m=\u001b[39;49mkeep_in_fp32_modules,\n\u001b[1;32m   3323\u001b[0m     )\n\u001b[1;32m   3325\u001b[0m model\u001b[39m.\u001b[39mis_loaded_in_4bit \u001b[39m=\u001b[39m load_in_4bit\n\u001b[1;32m   3326\u001b[0m model\u001b[39m.\u001b[39mis_loaded_in_8bit \u001b[39m=\u001b[39m load_in_8bit\n",
      "File \u001b[0;32m~/.local/lib/python3.10/site-packages/transformers/modeling_utils.py:3681\u001b[0m, in \u001b[0;36mPreTrainedModel._load_pretrained_model\u001b[0;34m(cls, model, state_dict, loaded_keys, resolved_archive_file, pretrained_model_name_or_path, ignore_mismatched_sizes, sharded_metadata, _fast_init, low_cpu_mem_usage, device_map, offload_folder, offload_state_dict, dtype, is_quantized, keep_in_fp32_modules)\u001b[0m\n\u001b[1;32m   3679\u001b[0m \u001b[39mif\u001b[39;00m shard_file \u001b[39min\u001b[39;00m disk_only_shard_files:\n\u001b[1;32m   3680\u001b[0m     \u001b[39mcontinue\u001b[39;00m\n\u001b[0;32m-> 3681\u001b[0m state_dict \u001b[39m=\u001b[39m load_state_dict(shard_file)\n\u001b[1;32m   3683\u001b[0m \u001b[39m# Mistmatched keys contains tuples key/shape1/shape2 of weights in the checkpoint that have a shape not\u001b[39;00m\n\u001b[1;32m   3684\u001b[0m \u001b[39m# matching the weights in the model.\u001b[39;00m\n\u001b[1;32m   3685\u001b[0m mismatched_keys \u001b[39m+\u001b[39m\u001b[39m=\u001b[39m _find_mismatched_keys(\n\u001b[1;32m   3686\u001b[0m     state_dict,\n\u001b[1;32m   3687\u001b[0m     model_state_dict,\n\u001b[0;32m   (...)\u001b[0m\n\u001b[1;32m   3691\u001b[0m     ignore_mismatched_sizes,\n\u001b[1;32m   3692\u001b[0m )\n",
      "File \u001b[0;32m~/.local/lib/python3.10/site-packages/transformers/modeling_utils.py:484\u001b[0m, in \u001b[0;36mload_state_dict\u001b[0;34m(checkpoint_file)\u001b[0m\n\u001b[1;32m    482\u001b[0m     \u001b[39melse\u001b[39;00m:\n\u001b[1;32m    483\u001b[0m         map_location \u001b[39m=\u001b[39m \u001b[39m\"\u001b[39m\u001b[39mcpu\u001b[39m\u001b[39m\"\u001b[39m\n\u001b[0;32m--> 484\u001b[0m     \u001b[39mreturn\u001b[39;00m torch\u001b[39m.\u001b[39;49mload(checkpoint_file, map_location\u001b[39m=\u001b[39;49mmap_location)\n\u001b[1;32m    485\u001b[0m \u001b[39mexcept\u001b[39;00m \u001b[39mException\u001b[39;00m \u001b[39mas\u001b[39;00m e:\n\u001b[1;32m    486\u001b[0m     \u001b[39mtry\u001b[39;00m:\n",
      "File \u001b[0;32m~/.local/lib/python3.10/site-packages/torch/serialization.py:809\u001b[0m, in \u001b[0;36mload\u001b[0;34m(f, map_location, pickle_module, weights_only, **pickle_load_args)\u001b[0m\n\u001b[1;32m    807\u001b[0m             \u001b[39mexcept\u001b[39;00m \u001b[39mRuntimeError\u001b[39;00m \u001b[39mas\u001b[39;00m e:\n\u001b[1;32m    808\u001b[0m                 \u001b[39mraise\u001b[39;00m pickle\u001b[39m.\u001b[39mUnpicklingError(UNSAFE_MESSAGE \u001b[39m+\u001b[39m \u001b[39mstr\u001b[39m(e)) \u001b[39mfrom\u001b[39;00m \u001b[39mNone\u001b[39;00m\n\u001b[0;32m--> 809\u001b[0m         \u001b[39mreturn\u001b[39;00m _load(opened_zipfile, map_location, pickle_module, \u001b[39m*\u001b[39;49m\u001b[39m*\u001b[39;49mpickle_load_args)\n\u001b[1;32m    810\u001b[0m \u001b[39mif\u001b[39;00m weights_only:\n\u001b[1;32m    811\u001b[0m     \u001b[39mtry\u001b[39;00m:\n",
      "File \u001b[0;32m~/.local/lib/python3.10/site-packages/torch/serialization.py:1172\u001b[0m, in \u001b[0;36m_load\u001b[0;34m(zip_file, map_location, pickle_module, pickle_file, **pickle_load_args)\u001b[0m\n\u001b[1;32m   1170\u001b[0m unpickler \u001b[39m=\u001b[39m UnpicklerWrapper(data_file, \u001b[39m*\u001b[39m\u001b[39m*\u001b[39mpickle_load_args)\n\u001b[1;32m   1171\u001b[0m unpickler\u001b[39m.\u001b[39mpersistent_load \u001b[39m=\u001b[39m persistent_load\n\u001b[0;32m-> 1172\u001b[0m result \u001b[39m=\u001b[39m unpickler\u001b[39m.\u001b[39;49mload()\n\u001b[1;32m   1174\u001b[0m torch\u001b[39m.\u001b[39m_utils\u001b[39m.\u001b[39m_validate_loaded_sparse_tensors()\n\u001b[1;32m   1176\u001b[0m \u001b[39mreturn\u001b[39;00m result\n",
      "File \u001b[0;32m~/.local/lib/python3.10/site-packages/torch/serialization.py:1142\u001b[0m, in \u001b[0;36m_load.<locals>.persistent_load\u001b[0;34m(saved_id)\u001b[0m\n\u001b[1;32m   1140\u001b[0m \u001b[39melse\u001b[39;00m:\n\u001b[1;32m   1141\u001b[0m     nbytes \u001b[39m=\u001b[39m numel \u001b[39m*\u001b[39m torch\u001b[39m.\u001b[39m_utils\u001b[39m.\u001b[39m_element_size(dtype)\n\u001b[0;32m-> 1142\u001b[0m     typed_storage \u001b[39m=\u001b[39m load_tensor(dtype, nbytes, key, _maybe_decode_ascii(location))\n\u001b[1;32m   1144\u001b[0m \u001b[39mreturn\u001b[39;00m typed_storage\n",
      "File \u001b[0;32m~/.local/lib/python3.10/site-packages/torch/serialization.py:1112\u001b[0m, in \u001b[0;36m_load.<locals>.load_tensor\u001b[0;34m(dtype, numel, key, location)\u001b[0m\n\u001b[1;32m   1109\u001b[0m \u001b[39mdef\u001b[39;00m \u001b[39mload_tensor\u001b[39m(dtype, numel, key, location):\n\u001b[1;32m   1110\u001b[0m     name \u001b[39m=\u001b[39m \u001b[39mf\u001b[39m\u001b[39m'\u001b[39m\u001b[39mdata/\u001b[39m\u001b[39m{\u001b[39;00mkey\u001b[39m}\u001b[39;00m\u001b[39m'\u001b[39m\n\u001b[0;32m-> 1112\u001b[0m     storage \u001b[39m=\u001b[39m zip_file\u001b[39m.\u001b[39;49mget_storage_from_record(name, numel, torch\u001b[39m.\u001b[39;49mUntypedStorage)\u001b[39m.\u001b[39m_typed_storage()\u001b[39m.\u001b[39m_untyped_storage\n\u001b[1;32m   1113\u001b[0m     \u001b[39m# TODO: Once we decide to break serialization FC, we can\u001b[39;00m\n\u001b[1;32m   1114\u001b[0m     \u001b[39m# stop wrapping with TypedStorage\u001b[39;00m\n\u001b[1;32m   1115\u001b[0m     typed_storage \u001b[39m=\u001b[39m torch\u001b[39m.\u001b[39mstorage\u001b[39m.\u001b[39mTypedStorage(\n\u001b[1;32m   1116\u001b[0m         wrap_storage\u001b[39m=\u001b[39mrestore_location(storage, location),\n\u001b[1;32m   1117\u001b[0m         dtype\u001b[39m=\u001b[39mdtype,\n\u001b[1;32m   1118\u001b[0m         _internal\u001b[39m=\u001b[39m\u001b[39mTrue\u001b[39;00m)\n",
      "\u001b[0;31mKeyboardInterrupt\u001b[0m: "
     ]
    }
   ],
   "source": [
    "\n",
    "\n",
    "from peft import AutoPeftModelForSeq2SeqLM\n",
    "from transformers import AutoTokenizer\n",
    "import torch\n",
    "# model_path=\"google/flan-t5-xl\"\n",
    "# model_path=f\"/home/u131168/{mh_dir}/ft_models/flan-t5-xl_peft_finetuned_model/checkpoint-11700\"\n",
    "# model_path=f\"/home/u131168/{mh_dir}/ft_models/flan-t5-xl_mt5/checkpoint-34600\"\n",
    "\n",
    "model_path=f\"/home/u131168/{mh_dir}/ft_models/flan-t5-xl_mt5_v3/checkpoint-25000\"\n",
    "\n",
    "\n",
    "\n",
    "\n",
    "custom_model = AutoPeftModelForSeq2SeqLM.from_pretrained(model_path, )\n",
    "\n",
    "# tokenizer = T5Tokenizer.from_pretrained(model_path)\n",
    "# tokenizer = AutoTokenizer.from_pretrained(\"google/flan-t5-xl\")\n",
    "\n",
    "tokenizer=getTokenizer()\n",
    "custom_model.resize_token_embeddings(len(tokenizer))\n"
   ]
  },
  {
   "cell_type": "code",
   "execution_count": null,
   "metadata": {},
   "outputs": [
    {
     "ename": "",
     "evalue": "",
     "output_type": "error",
     "traceback": [
      "\u001b[1;31mThe kernel failed to start due to the missing module 'packaging'. Consider installing this module.\n",
      "\u001b[1;31mClick <a href='https://aka.ms/kernelFailuresMissingModule'>here</a> for more info."
     ]
    }
   ],
   "source": [
    "from pprint import pprint\n",
    "\n",
    "# p_count=50\n",
    "# psi,pei=58,68\n",
    "psi,pei=11,12\n",
    "\n",
    "# psi,pei=250,258\n",
    "# prompts = ftrain_data.loc[psi:pei,['input','instruction']].values.tolist()\n",
    "prompts = f_data.loc[psi:pei,['input','instruction']].values.tolist()\n",
    "\n",
    "# instruction=\"extract code snippets from the paragraph, if it does not contain code snippets then say none\"\n",
    "\n",
    "t_prompts=[]\n",
    "for p in prompts:\n",
    "    context=str(p[0])\n",
    "    question=p[1]\n",
    "    t_prompts.append([context, question])\n",
    "    # t_prompts+=[f\"input: {context}\\n\\ninstruction: {question}\"]\n",
    "\n",
    "prompts=t_prompts\n",
    "# prompts = ftrain_data.loc[:p_count,['input','instruction']].values.tolist()\n",
    "# pprint(prompts)"
   ]
  },
  {
   "cell_type": "code",
   "execution_count": null,
   "metadata": {},
   "outputs": [
    {
     "ename": "",
     "evalue": "",
     "output_type": "error",
     "traceback": [
      "\u001b[1;31mThe kernel failed to start due to the missing module 'packaging'. Consider installing this module.\n",
      "\u001b[1;31mClick <a href='https://aka.ms/kernelFailuresMissingModule'>here</a> for more info."
     ]
    }
   ],
   "source": []
  },
  {
   "cell_type": "code",
   "execution_count": null,
   "metadata": {},
   "outputs": [
    {
     "ename": "",
     "evalue": "",
     "output_type": "error",
     "traceback": [
      "\u001b[1;31mThe kernel failed to start due to the missing module 'packaging'. Consider installing this module.\n",
      "\u001b[1;31mClick <a href='https://aka.ms/kernelFailuresMissingModule'>here</a> for more info."
     ]
    }
   ],
   "source": [
    "\n",
    "\n",
    "\n",
    "# tokenizer = AutoTokenizer.from_pretrained(\"google/flan-t5-xl\")\n",
    "# tokenizer = AutoTokenizer.from_pretrained(\"bert-base-cased\")\n",
    "\n",
    "\n",
    "# stokens=[]\n",
    "# stokens=[\"{\", \"}\" ,\"\\n\",\"<\", \">\",\" \",'\\\\','/','^']\n",
    "# for st in stokens:\n",
    "    # tokenizer.add_tokens(AddedToken(st, normalized=False))\n",
    "\n",
    "\n",
    "# tokenizer.add_tokens(stokens,special_tokens=False)\n",
    "\n",
    "\n",
    "input_ids = tokenizer(prompts, return_tensors=\"pt\" ,padding=True,truncation=True, max_length=512).input_ids\n",
    "# sample up to 30 tokens\n",
    "torch.manual_seed(0)  # doctest: +IGNORE_RESULT\n",
    "outputs = custom_model.generate(input_ids=input_ids, do_sample=True, max_length=512)\n",
    "# pred_custom=tokenizer.batch_decode(outputs, skip_special_tokens=True,spaces_between_special_tokens = False)\n",
    "# pred_custom=tokenizer.batch_decode(outputs, skip_special_tokens=True)\n"
   ]
  },
  {
   "cell_type": "code",
   "execution_count": null,
   "metadata": {},
   "outputs": [
    {
     "ename": "",
     "evalue": "",
     "output_type": "error",
     "traceback": [
      "\u001b[1;31mThe kernel failed to start due to the missing module 'packaging'. Consider installing this module.\n",
      "\u001b[1;31mClick <a href='https://aka.ms/kernelFailuresMissingModule'>here</a> for more info."
     ]
    }
   ],
   "source": [
    "pred_custom=tokenizer.batch_decode(outputs, skip_special_tokens=True,spaces_between_special_tokens = False)\n",
    "\n",
    "# tokenizer = AutoTokenizer.from_pretrained(\"google/flan-t5-xl\")\n",
    "# stokens=[\"`\",\"~\",\"!\",\"@\",\"#\",\"$\",\"%\",\"^\",\"&\",\"*\",\"(\",\")\",\"-\",\"_\",\"+\",\"=\",\"{\",\"}\",\"[\",\"]\",\"|\",\"\\\\\",\":\",\";\",\"\\\"\",\"'\",\"<\",\">\",\"?\",\"/\",\"\\n\",\" \"]\n",
    "# for st in stokens:\n",
    "#     tokenizer.add_tokens(AddedToken(st, normalized=False),special_tokens=False)\n",
    "\n",
    "# pred_custom=tokenizer.batch_decode(outputs, skip_special_tokens=True,spaces_between_special_tokens = False)\n"
   ]
  },
  {
   "cell_type": "code",
   "execution_count": 16,
   "metadata": {},
   "outputs": [
    {
     "name": "stdout",
     "output_type": "stream",
     "text": [
      "['{\\\\n\\\\t}']\n",
      "['\\\\ n\\\\ t']\n"
     ]
    }
   ],
   "source": [
    "# !pip install transformers\n",
    "# !pip install tqdm\n",
    "from transformers import AutoTokenizer\n",
    "# # from transformers import T5Tokenizer\n",
    "\n",
    "from tokenizers import AddedToken\n",
    "# text=\"int arr[5] = \\n\\{`~1,};:[ ]\\++++ - *&^%$#@!_+)'5>2,\"\n",
    "# # # text=\"int arr[5] = {1, 2, 3, 4, 5};', 'for(int i=0; i<5; i++) {cout << arr[i] << endl;}\"\n",
    "# # # text=\"function add(a, b) { \\n\\n<< return a + b; }\"\n",
    "text= \"{\\\\n\\\\t}\"\n",
    "tokenizer = AutoTokenizer.from_pretrained(\"google/flan-t5-xl\")\n",
    "# tokenizer = T5Tokenizer.from_pretrained(\"google/flan-t5-xl\")\n",
    "# # # tokenizer = AutoTokenizer.from_pretrained(\"bert-base-cased\")\n",
    "\n",
    "# # stokens=[]\n",
    "# # stokens=[\"{\", \"}\" ,\"\\n\",\"<\",'\\\\','/','^',\" \",\"`\",\"~\"]\n",
    "stokens=['\\\\']\n",
    "# stokens=[\"`\",\"~\",\"!\",\"@\",\"#\",\"$\",\"%\",\"^\",\"&\",\"*\",\"(\",\")\",\"-\",\"_\",\"+\",\"=\",\"{\",\"}\",\"[\",\"]\",\"|\",\"\\\\\",\":\",\";\",\"\\\"\",\"'\",\"<\",\">\",\"?\",\"/\",\"\\n\",\" \"]\n",
    "for st in stokens:\n",
    "    tokenizer.add_tokens(AddedToken(st, normalized=False),special_tokens=False)\n",
    "\n",
    "# # # tokenizer.add_tokens([\"{\",\"}\",\"<\",\"\\n\"])\n",
    "input_ids = tokenizer(text, return_tensors=\"pt\" ,padding=True,truncation=True, max_length=512).input_ids\n",
    "# pred_custom=tokenizer.batch_decode(outputs, skip_special_tokens=True)\n",
    "print([text])\n",
    "print(tokenizer.batch_decode(input_ids,skip_special_tokens=True,spaces_between_special_tokens = False))\n",
    "# print(tokenizer.batch_decode(input_ids,skip_special_tokens=True,))\n",
    "\n"
   ]
  },
  {
   "cell_type": "code",
   "execution_count": null,
   "metadata": {},
   "outputs": [
    {
     "ename": "",
     "evalue": "",
     "output_type": "error",
     "traceback": [
      "\u001b[1;31mThe kernel failed to start due to the missing module 'packaging'. Consider installing this module.\n",
      "\u001b[1;31mClick <a href='https://aka.ms/kernelFailuresMissingModule'>here</a> for more info."
     ]
    }
   ],
   "source": [
    "pred_custom_df=pd.DataFrame(pd.Series(pred_custom,name=\"pred_custom\"))\n",
    "# pred_ft5_df=pd.DataFrame(pd.Series(pred_ft5,name=\"pred_ft5\"))\n",
    "# temp_df=pd.concat([ftrain_data.iloc[psi:pei+1].reset_index(),pred_custom_df],axis=1)\n",
    "temp_df=pd.concat([f_data.iloc[psi:pei+1].reset_index(),pred_custom_df],axis=1)\n",
    "\n",
    "temp_df\n",
    "# pprint(temp_df.iloc[1,0])\n",
    "# print(temp_df.iloc[5,3])\n",
    "# print(temp_df.iloc[5,4])"
   ]
  },
  {
   "cell_type": "code",
   "execution_count": null,
   "metadata": {},
   "outputs": [
    {
     "ename": "",
     "evalue": "",
     "output_type": "error",
     "traceback": [
      "\u001b[1;31mThe kernel failed to start due to the missing module 'packaging'. Consider installing this module.\n",
      "\u001b[1;31mClick <a href='https://aka.ms/kernelFailuresMissingModule'>here</a> for more info."
     ]
    }
   ],
   "source": [
    "temp_df.iloc[8,1]"
   ]
  },
  {
   "cell_type": "code",
   "execution_count": null,
   "metadata": {},
   "outputs": [
    {
     "ename": "",
     "evalue": "",
     "output_type": "error",
     "traceback": [
      "\u001b[1;31mThe kernel failed to start due to the missing module 'packaging'. Consider installing this module.\n",
      "\u001b[1;31mClick <a href='https://aka.ms/kernelFailuresMissingModule'>here</a> for more info."
     ]
    }
   ],
   "source": [
    "# # !pip install tiktoken\n",
    "# # !pip install transformers\n",
    "# # model='Salesforce/codegen-350M-mono'\n",
    "# # model='Salesforce/codegen25-7b-instruct'\n",
    "# model=\"Phind/Phind-CodeLlama-34B-v1\"\n",
    "# import transformers\n",
    "# from transformers import AutoTokenizer, AutoModelForCausalLM\n",
    "# tokenizer = AutoTokenizer.from_pretrained(model, trust_remote_code=True)\n",
    "# model = AutoModelForCausalLM.from_pretrained(model)\n",
    "\n",
    "\n",
    "# # from transformers import AutoTokenizer, LlamaForCausalLM\n",
    "# # model_path = \"Phind/Phind-CodeLlama-34B-v1\"\n",
    "# # model = LlamaForCausalLM.from_pretrained(model_path, device_map=\"auto\")\n",
    "# # tokenizer = AutoTokenizer.from_pretrained(model_path)\n",
    "\n",
    "\n"
   ]
  },
  {
   "cell_type": "code",
   "execution_count": null,
   "metadata": {},
   "outputs": [
    {
     "ename": "",
     "evalue": "",
     "output_type": "error",
     "traceback": [
      "\u001b[1;31mThe kernel failed to start due to the missing module 'packaging'. Consider installing this module.\n",
      "\u001b[1;31mClick <a href='https://aka.ms/kernelFailuresMissingModule'>here</a> for more info."
     ]
    }
   ],
   "source": [
    "# from pprint import pprint\n",
    "# # creating prompts\n",
    "# prompts=[]\n",
    "# for i in train_data[124:125].index:\n",
    "#     prompt='extract code from the following paragraph:\\n\\n\\n'+train_data.iloc[i,1].replace('\\n','')\n",
    "    \n",
    "#     # predict\n",
    "#     # text = \"def hello_world():\"\n",
    "#     # text = prompt\n",
    "#     # input_ids = tokenizer(text, return_tensors=\"pt\").input_ids\n",
    "#     # generated_ids = model.generate(input_ids, max_length=128)\n",
    "#     # res=tokenizer.decode(generated_ids[0], skip_special_tokens=True)\n",
    "\n",
    "#     tokenizer.pad_token = tokenizer.eos_token\n",
    "#     inputs = tokenizer(prompt, return_tensors=\"pt\", truncation=True, max_length=4096)\n",
    "\n",
    "#     # Generate\n",
    "#     generate_ids = model.generate(inputs.input_ids, max_new_tokens=256, do_sample=True, top_p=0.75, top_k=40, temperature=0.1)\n",
    "#     completion = tokenizer.batch_decode(generate_ids, skip_special_tokens=True, clean_up_tokenization_spaces=False)[0]\n",
    "#     completion = completion.replace(prompt, \"\").split(\"\\n\\n\\n\")[0]\n",
    "#     res=completion\n",
    "\n",
    "#     print('-----------------------text----------------')\n",
    "#     pprint(prompt)\n",
    "#     print('-------------------------res------------------')\n",
    "#     pprint(res)\n",
    "\n",
    "    \n"
   ]
  }
 ],
 "metadata": {
  "kernelspec": {
   "display_name": "Python 3",
   "language": "python",
   "name": "python3"
  },
  "language_info": {
   "codemirror_mode": {
    "name": "ipython",
    "version": 3
   },
   "file_extension": ".py",
   "mimetype": "text/x-python",
   "name": "python",
   "nbconvert_exporter": "python",
   "pygments_lexer": "ipython3",
   "version": "3.9.16"
  },
  "orig_nbformat": 4
 },
 "nbformat": 4,
 "nbformat_minor": 2
}
