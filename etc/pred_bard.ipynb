{
 "cells": [
  {
   "cell_type": "code",
   "execution_count": 10,
   "metadata": {},
   "outputs": [
    {
     "name": "stdout",
     "output_type": "stream",
     "text": [
      "Requirement already satisfied: bardapi in /opt/miniconda/lib/python3.10/site-packages (0.1.34)\n",
      "Requirement already satisfied: deep-translator in /opt/miniconda/lib/python3.10/site-packages (from bardapi) (1.11.4)\n",
      "Requirement already satisfied: browser-cookie3 in /opt/miniconda/lib/python3.10/site-packages (from bardapi) (0.19.1)\n",
      "Requirement already satisfied: colorama in /opt/miniconda/lib/python3.10/site-packages (from bardapi) (0.4.6)\n",
      "Requirement already satisfied: google-cloud-translate in /opt/miniconda/lib/python3.10/site-packages (from bardapi) (3.12.0)\n",
      "Requirement already satisfied: requests in /opt/miniconda/lib/python3.10/site-packages (from bardapi) (2.28.1)\n",
      "Requirement already satisfied: httpx[http2]>=0.20.0 in /opt/miniconda/lib/python3.10/site-packages (from bardapi) (0.25.0)\n",
      "Requirement already satisfied: langdetect in /opt/miniconda/lib/python3.10/site-packages (from bardapi) (1.0.9)\n",
      "Requirement already satisfied: sniffio in /opt/miniconda/lib/python3.10/site-packages (from httpx[http2]>=0.20.0->bardapi) (1.3.0)\n",
      "Requirement already satisfied: httpcore<0.19.0,>=0.18.0 in /opt/miniconda/lib/python3.10/site-packages (from httpx[http2]>=0.20.0->bardapi) (0.18.0)\n",
      "Requirement already satisfied: idna in /opt/miniconda/lib/python3.10/site-packages (from httpx[http2]>=0.20.0->bardapi) (3.4)\n",
      "Requirement already satisfied: certifi in /opt/miniconda/lib/python3.10/site-packages (from httpx[http2]>=0.20.0->bardapi) (2023.5.7)\n",
      "Requirement already satisfied: h2<5,>=3 in /opt/miniconda/lib/python3.10/site-packages (from httpx[http2]>=0.20.0->bardapi) (4.1.0)\n",
      "Requirement already satisfied: pycryptodomex in /opt/miniconda/lib/python3.10/site-packages (from browser-cookie3->bardapi) (3.19.0)\n",
      "Requirement already satisfied: lz4 in /opt/miniconda/lib/python3.10/site-packages (from browser-cookie3->bardapi) (4.3.2)\n",
      "Requirement already satisfied: jeepney in /opt/miniconda/lib/python3.10/site-packages (from browser-cookie3->bardapi) (0.8.0)\n",
      "Requirement already satisfied: beautifulsoup4<5.0.0,>=4.9.1 in /opt/miniconda/lib/python3.10/site-packages (from deep-translator->bardapi) (4.12.2)\n",
      "Requirement already satisfied: urllib3<1.27,>=1.21.1 in /opt/miniconda/lib/python3.10/site-packages (from requests->bardapi) (1.26.15)\n",
      "Requirement already satisfied: charset-normalizer<3,>=2 in /opt/miniconda/lib/python3.10/site-packages (from requests->bardapi) (2.0.4)\n",
      "Requirement already satisfied: proto-plus<2.0.0dev,>=1.22.0 in /opt/miniconda/lib/python3.10/site-packages (from google-cloud-translate->bardapi) (1.22.3)\n",
      "Requirement already satisfied: google-api-core[grpc]!=2.0.*,!=2.1.*,!=2.10.*,!=2.2.*,!=2.3.*,!=2.4.*,!=2.5.*,!=2.6.*,!=2.7.*,!=2.8.*,!=2.9.*,<3.0.0dev,>=1.34.0 in /opt/miniconda/lib/python3.10/site-packages (from google-cloud-translate->bardapi) (2.11.1)\n",
      "Requirement already satisfied: google-cloud-core<3.0.0dev,>=1.3.0 in /opt/miniconda/lib/python3.10/site-packages (from google-cloud-translate->bardapi) (2.3.3)\n",
      "Requirement already satisfied: protobuf!=3.20.0,!=3.20.1,!=4.21.0,!=4.21.1,!=4.21.2,!=4.21.3,!=4.21.4,!=4.21.5,<5.0.0dev,>=3.19.5 in /opt/miniconda/lib/python3.10/site-packages (from google-cloud-translate->bardapi) (4.24.3)\n",
      "Requirement already satisfied: six in /opt/miniconda/lib/python3.10/site-packages (from langdetect->bardapi) (1.16.0)\n",
      "Requirement already satisfied: soupsieve>1.2 in /opt/miniconda/lib/python3.10/site-packages (from beautifulsoup4<5.0.0,>=4.9.1->deep-translator->bardapi) (2.3.2.post1)\n",
      "Requirement already satisfied: google-auth<3.0.dev0,>=2.14.1 in /opt/miniconda/lib/python3.10/site-packages (from google-api-core[grpc]!=2.0.*,!=2.1.*,!=2.10.*,!=2.2.*,!=2.3.*,!=2.4.*,!=2.5.*,!=2.6.*,!=2.7.*,!=2.8.*,!=2.9.*,<3.0.0dev,>=1.34.0->google-cloud-translate->bardapi) (2.23.0)\n",
      "Requirement already satisfied: googleapis-common-protos<2.0.dev0,>=1.56.2 in /opt/miniconda/lib/python3.10/site-packages (from google-api-core[grpc]!=2.0.*,!=2.1.*,!=2.10.*,!=2.2.*,!=2.3.*,!=2.4.*,!=2.5.*,!=2.6.*,!=2.7.*,!=2.8.*,!=2.9.*,<3.0.0dev,>=1.34.0->google-cloud-translate->bardapi) (1.60.0)\n",
      "Requirement already satisfied: grpcio-status<2.0.dev0,>=1.33.2 in /opt/miniconda/lib/python3.10/site-packages (from google-api-core[grpc]!=2.0.*,!=2.1.*,!=2.10.*,!=2.2.*,!=2.3.*,!=2.4.*,!=2.5.*,!=2.6.*,!=2.7.*,!=2.8.*,!=2.9.*,<3.0.0dev,>=1.34.0->google-cloud-translate->bardapi) (1.58.0)\n",
      "Requirement already satisfied: grpcio<2.0dev,>=1.33.2 in /opt/miniconda/lib/python3.10/site-packages (from google-api-core[grpc]!=2.0.*,!=2.1.*,!=2.10.*,!=2.2.*,!=2.3.*,!=2.4.*,!=2.5.*,!=2.6.*,!=2.7.*,!=2.8.*,!=2.9.*,<3.0.0dev,>=1.34.0->google-cloud-translate->bardapi) (1.58.0)\n",
      "Requirement already satisfied: hpack<5,>=4.0 in /opt/miniconda/lib/python3.10/site-packages (from h2<5,>=3->httpx[http2]>=0.20.0->bardapi) (4.0.0)\n",
      "Requirement already satisfied: hyperframe<7,>=6.0 in /opt/miniconda/lib/python3.10/site-packages (from h2<5,>=3->httpx[http2]>=0.20.0->bardapi) (6.0.1)\n",
      "Requirement already satisfied: h11<0.15,>=0.13 in /opt/miniconda/lib/python3.10/site-packages (from httpcore<0.19.0,>=0.18.0->httpx[http2]>=0.20.0->bardapi) (0.14.0)\n",
      "Requirement already satisfied: anyio<5.0,>=3.0 in /opt/miniconda/lib/python3.10/site-packages (from httpcore<0.19.0,>=0.18.0->httpx[http2]>=0.20.0->bardapi) (3.7.0)\n",
      "Requirement already satisfied: exceptiongroup in /home/u131168/.local/lib/python3.10/site-packages (from anyio<5.0,>=3.0->httpcore<0.19.0,>=0.18.0->httpx[http2]>=0.20.0->bardapi) (1.1.3)\n",
      "Requirement already satisfied: rsa<5,>=3.1.4 in /opt/miniconda/lib/python3.10/site-packages (from google-auth<3.0.dev0,>=2.14.1->google-api-core[grpc]!=2.0.*,!=2.1.*,!=2.10.*,!=2.2.*,!=2.3.*,!=2.4.*,!=2.5.*,!=2.6.*,!=2.7.*,!=2.8.*,!=2.9.*,<3.0.0dev,>=1.34.0->google-cloud-translate->bardapi) (4.9)\n",
      "Requirement already satisfied: cachetools<6.0,>=2.0.0 in /opt/miniconda/lib/python3.10/site-packages (from google-auth<3.0.dev0,>=2.14.1->google-api-core[grpc]!=2.0.*,!=2.1.*,!=2.10.*,!=2.2.*,!=2.3.*,!=2.4.*,!=2.5.*,!=2.6.*,!=2.7.*,!=2.8.*,!=2.9.*,<3.0.0dev,>=1.34.0->google-cloud-translate->bardapi) (5.3.1)\n",
      "Requirement already satisfied: pyasn1-modules>=0.2.1 in /opt/miniconda/lib/python3.10/site-packages (from google-auth<3.0.dev0,>=2.14.1->google-api-core[grpc]!=2.0.*,!=2.1.*,!=2.10.*,!=2.2.*,!=2.3.*,!=2.4.*,!=2.5.*,!=2.6.*,!=2.7.*,!=2.8.*,!=2.9.*,<3.0.0dev,>=1.34.0->google-cloud-translate->bardapi) (0.3.0)\n",
      "Requirement already satisfied: pyasn1<0.6.0,>=0.4.6 in /opt/miniconda/lib/python3.10/site-packages (from pyasn1-modules>=0.2.1->google-auth<3.0.dev0,>=2.14.1->google-api-core[grpc]!=2.0.*,!=2.1.*,!=2.10.*,!=2.2.*,!=2.3.*,!=2.4.*,!=2.5.*,!=2.6.*,!=2.7.*,!=2.8.*,!=2.9.*,<3.0.0dev,>=1.34.0->google-cloud-translate->bardapi) (0.5.0)\n"
     ]
    }
   ],
   "source": [
    "import pandas as pd\n",
    "!pip install bardapi\n",
    "import bardapi\n",
    "\n",
    "# prompt=f\"extract all the code snippets from the following paragraph in the form of an array, if it does not contain code snippets then say none:\\n\\n\\n{text}'\n",
    " "
   ]
  },
  {
   "cell_type": "code",
   "execution_count": 11,
   "metadata": {},
   "outputs": [],
   "source": [
    "data_path=\"data/datafinal.json\"\n",
    "submission_path=\"data/submission.csv\"\n",
    "\n",
    "# vars\n",
    "col_text='Text'\n",
    "col_cc='ContainsCode'\n",
    "col_cl='CodeList'\n"
   ]
  },
  {
   "cell_type": "code",
   "execution_count": 14,
   "metadata": {},
   "outputs": [],
   "source": [
    "full_data=pd.read_json(data_path)\n",
    "train_data=full_data[full_data[col_cc]!=\"\"]\n",
    "test_data=full_data[full_data[col_cc]==\"\"]\n",
    "# pprint(train_data.iloc[1,1])"
   ]
  },
  {
   "cell_type": "code",
   "execution_count": 18,
   "metadata": {},
   "outputs": [],
   "source": [
    "\n",
    "import requests\n",
    "from bardapi.constants import SESSION_HEADERS\n",
    "from bardapi import Bard\n",
    "\n",
    "token = \"bQjaKp6OiuiD_XKqT2jzzbfrowenT5VptXxC7vXSxtZMtU7Es67yNzaSjVlIkoMlxYl_3A.\"\n",
    "\n",
    "\n",
    "session = requests.Session()\n",
    "session.headers = SESSION_HEADERS\n",
    "session.cookies.set(\"__Secure-1PSID\", token)\n",
    "session.cookies.set(\"__Secure-1PSIDTS\", \"sidts-CjAB3e41hblTlgeCDZBwKv0b4UTihBcJAIXEPGxcgR1xyWs70gagxH842wZNpaR8sf8QAA\")\n",
    "session.cookies.set(\"__Secure-1PSIDCC\", \"APoG2W_KA8qDuMWvU4hyN8-_r3dK0Y9DTG3ZSswUo37j1ipdJh5MVVBr21by0J6DfAAAbgjA\")\n",
    "\n",
    "bard = Bard(token=token, session=session)"
   ]
  },
  {
   "cell_type": "code",
   "execution_count": 37,
   "metadata": {},
   "outputs": [
    {
     "name": "stdout",
     "output_type": "stream",
     "text": [
      "extract all the code snippets from the following paragraph in the form of an array, if it does not contain code snippets then say none:\n",
      "\n",
      "\n",
      "Software development is an intricate process that involves various stages including planning, design, coding, testing, and maintenance. Each stage plays a crucial role in ensuring that the final product meets the requirements and expectations. The coding stage, in particular, is where the actual creation of the software occurs. This is where a programmer, using a programming language, writes the instructions that tell the computer what to do. With so many programming languages out there, it's crucial for a developer to choose the right one for the task at hand. One of the most popular and widely used programming languages is Python. Python is known for its simplicity and readability, making it a great choice for beginners. But don't let its simplicity fool you. Python is a powerful language that's used in a wide range of applications, from web development to data analysis and machine learning. So, whether you're a seasoned developer or just starting out, Python is definitely a language worth considering.\n"
     ]
    }
   ],
   "source": [
    "\n",
    "text=train_data.iloc[3,1].replace('\\n','')\n",
    "# text=full_data.iloc[57,1].replace('\\n','')\n",
    "\n",
    "prompt=f\"extract all the code snippets from the following paragraph in the form of an array, if it does not contain code snippets then say none:\\n\\n\\n{text}\"\n",
    "# prompt=\"hi\"\n",
    "# res=bard.get_answer(prompt)['content']\n",
    "\n",
    "# print(res.replace('\\n',''))\n",
    "print(prompt)"
   ]
  },
  {
   "cell_type": "code",
   "execution_count": 26,
   "metadata": {},
   "outputs": [
    {
     "name": "stdout",
     "output_type": "stream",
     "text": [
      "The following paragraph contains two code snippets:```pythonx=x+2;``````git commit -m mod```The first code snippet is a Python code snippet that increments the value of the variable `x` by 2. The second code snippet is a Git code snippet that creates a new commit with the message `mod`.Here are the code snippets in the form of an array:```[\"x=x+2;\", \"git commit -m mod\"]```If the paragraph did not contain any code snippets, the answer would be \"none\".\n"
     ]
    }
   ],
   "source": [
    "print(res.replace('\\n',''))\n",
    "\n",
    "# extract all the code snippets from the following paragraph in the form of an array, if it does not contain code snippets then say none:\n",
    "# \n",
    "# Another important aspect of software development is version control. Version control systems such as Git allow developers to track changes to their code, collaborate with others, and revert to previous versions of their code if necessary. It's an essential tool for any software developer.One of the most important commands in Git is the commit command:git commit -m 'Initial commit'This command will create a new commit with the message 'Initial commit', representing a snapshot of the code at that point in time."
   ]
  },
  {
   "cell_type": "code",
   "execution_count": 17,
   "metadata": {},
   "outputs": [
    {
     "data": {
      "application/vnd.jupyter.widget-view+json": {
       "model_id": "b2617f0fd29643f0b21cfe80d2d058a3",
       "version_major": 2,
       "version_minor": 0
      },
      "text/plain": [
       "Downloading (…)lve/main/config.json:   0%|          | 0.00/632 [00:00<?, ?B/s]"
      ]
     },
     "metadata": {},
     "output_type": "display_data"
    },
    {
     "data": {
      "application/vnd.jupyter.widget-view+json": {
       "model_id": "a7e7c3a664634fcd966113c8bc937be1",
       "version_major": 2,
       "version_minor": 0
      },
      "text/plain": [
       "Downloading (…)model.bin.index.json:   0%|          | 0.00/35.8k [00:00<?, ?B/s]"
      ]
     },
     "metadata": {},
     "output_type": "display_data"
    },
    {
     "data": {
      "application/vnd.jupyter.widget-view+json": {
       "model_id": "00c45050f4fc4f2fb2796f3bd711e701",
       "version_major": 2,
       "version_minor": 0
      },
      "text/plain": [
       "Downloading shards:   0%|          | 0/7 [00:00<?, ?it/s]"
      ]
     },
     "metadata": {},
     "output_type": "display_data"
    },
    {
     "data": {
      "application/vnd.jupyter.widget-view+json": {
       "model_id": "596eddef49ce4fb99d85584364b4d977",
       "version_major": 2,
       "version_minor": 0
      },
      "text/plain": [
       "Downloading (…)l-00001-of-00007.bin:   0%|          | 0.00/9.85G [00:00<?, ?B/s]"
      ]
     },
     "metadata": {},
     "output_type": "display_data"
    },
    {
     "data": {
      "application/vnd.jupyter.widget-view+json": {
       "model_id": "d06601593aec405da4b39cca7b1e4337",
       "version_major": 2,
       "version_minor": 0
      },
      "text/plain": [
       "Downloading (…)l-00002-of-00007.bin:   0%|          | 0.00/9.69G [00:00<?, ?B/s]"
      ]
     },
     "metadata": {},
     "output_type": "display_data"
    },
    {
     "data": {
      "application/vnd.jupyter.widget-view+json": {
       "model_id": "41e8d1e4972f403aba24134f9dffbd85",
       "version_major": 2,
       "version_minor": 0
      },
      "text/plain": [
       "Downloading (…)l-00003-of-00007.bin:   0%|          | 0.00/9.69G [00:00<?, ?B/s]"
      ]
     },
     "metadata": {},
     "output_type": "display_data"
    },
    {
     "data": {
      "application/vnd.jupyter.widget-view+json": {
       "model_id": "fe8d39bb45584f679f32f2ac9a156601",
       "version_major": 2,
       "version_minor": 0
      },
      "text/plain": [
       "Downloading (…)l-00004-of-00007.bin:   0%|          | 0.00/9.69G [00:00<?, ?B/s]"
      ]
     },
     "metadata": {},
     "output_type": "display_data"
    },
    {
     "data": {
      "application/vnd.jupyter.widget-view+json": {
       "model_id": "72fa8002e93e4f3c905f3db154e19c7d",
       "version_major": 2,
       "version_minor": 0
      },
      "text/plain": [
       "Downloading (…)l-00005-of-00007.bin:   0%|          | 0.00/9.69G [00:00<?, ?B/s]"
      ]
     },
     "metadata": {},
     "output_type": "display_data"
    },
    {
     "data": {
      "application/vnd.jupyter.widget-view+json": {
       "model_id": "22731cb0fe954d9989507b6a63d54b09",
       "version_major": 2,
       "version_minor": 0
      },
      "text/plain": [
       "Downloading (…)l-00006-of-00007.bin:   0%|          | 0.00/9.69G [00:00<?, ?B/s]"
      ]
     },
     "metadata": {},
     "output_type": "display_data"
    },
    {
     "data": {
      "application/vnd.jupyter.widget-view+json": {
       "model_id": "727d5a0377234f578b1be2dcba2dda6f",
       "version_major": 2,
       "version_minor": 0
      },
      "text/plain": [
       "Downloading (…)l-00007-of-00007.bin:   0%|          | 0.00/9.19G [00:00<?, ?B/s]"
      ]
     },
     "metadata": {},
     "output_type": "display_data"
    },
    {
     "data": {
      "application/vnd.jupyter.widget-view+json": {
       "model_id": "82bdf1039d2342f186b5155249bbc2b2",
       "version_major": 2,
       "version_minor": 0
      },
      "text/plain": [
       "Loading checkpoint shards:   0%|          | 0/7 [00:00<?, ?it/s]"
      ]
     },
     "metadata": {},
     "output_type": "display_data"
    },
    {
     "data": {
      "application/vnd.jupyter.widget-view+json": {
       "model_id": "7e00c41750774d6cb32f9d2bd63da776",
       "version_major": 2,
       "version_minor": 0
      },
      "text/plain": [
       "Downloading (…)neration_config.json:   0%|          | 0.00/116 [00:00<?, ?B/s]"
      ]
     },
     "metadata": {},
     "output_type": "display_data"
    }
   ],
   "source": [
    "# !pip install tiktoken\n",
    "# !pip install transformers\n",
    "# model='Salesforce/codegen-350M-mono'\n",
    "# model='Salesforce/codegen25-7b-instruct'\n",
    "model=\"Phind/Phind-CodeLlama-34B-v1\"\n",
    "import transformers\n",
    "from transformers import AutoTokenizer, AutoModelForCausalLM\n",
    "tokenizer = AutoTokenizer.from_pretrained(model, trust_remote_code=True)\n",
    "model = AutoModelForCausalLM.from_pretrained(model)\n",
    "\n",
    "\n",
    "# from transformers import AutoTokenizer, LlamaForCausalLM\n",
    "# model_path = \"Phind/Phind-CodeLlama-34B-v1\"\n",
    "# model = LlamaForCausalLM.from_pretrained(model_path, device_map=\"auto\")\n",
    "# tokenizer = AutoTokenizer.from_pretrained(model_path)\n",
    "\n",
    "\n"
   ]
  },
  {
   "cell_type": "code",
   "execution_count": 30,
   "metadata": {},
   "outputs": [
    {
     "name": "stderr",
     "output_type": "stream",
     "text": [
      "The attention mask and the pad token id were not set. As a consequence, you may observe unexpected behavior. Please pass your input's `attention_mask` to obtain reliable results.\n",
      "Setting `pad_token_id` to `eos_token_id`:2 for open-end generation.\n"
     ]
    },
    {
     "name": "stdout",
     "output_type": "stream",
     "text": [
      "-----------------------text----------------\n",
      "('extract code from the following paragraph:\\n'\n",
      " '\\n'\n",
      " '\\n'\n",
      " 'DevOps is a set of practices that combines software development and IT '\n",
      " 'operations. It aims to shorten the system development life cycle and provide '\n",
      " 'continuous delivery with high software quality. DevOps is complementary with '\n",
      " 'Agile software development; several DevOps aspects came from Agile '\n",
      " 'methodology.')\n",
      "-------------------------res------------------\n",
      "('The problem is not a programming problem, but a text extraction problem. '\n",
      " 'Here is a simple Python script that extracts the code from the given '\n",
      " 'paragraph:\\n'\n",
      " '\\n'\n",
      " '```python\\n'\n",
      " 'paragraph = \"DevOps is a set of practices that combines software development '\n",
      " 'and IT operations. It aims to shorten the system development life cycle and '\n",
      " 'provide continuous delivery with high software quality. DevOps is '\n",
      " 'complementary with Agile software development; several DevOps aspects came '\n",
      " 'from Agile methodology.\"\\n'\n",
      " '\\n'\n",
      " 'code = []\\n'\n",
      " '\\n'\n",
      " 'for word in paragraph.split():\\n'\n",
      " \"    if word.startswith('DevOps') or word.startswith('Agile'):\\n\"\n",
      " '        code.append(word)\\n'\n",
      " '\\n'\n",
      " 'print(code)\\n'\n",
      " '```\\n'\n",
      " '\\n'\n",
      " 'This script will output:\\n'\n",
      " '\\n'\n",
      " '```python\\n'\n",
      " \"['DevOps', 'Agile']\\n\"\n",
      " '```\\n'\n",
      " '\\n'\n",
      " 'This is a very simple script and it assumes that the words \"DevOps\" and '\n",
      " '\"Agile\" are the only ones that could be considered as code in this context. '\n",
      " 'If there are other potential code words, they would need to be added to the '\n",
      " 'script.')\n"
     ]
    }
   ],
   "source": [
    "from pprint import pprint\n",
    "# creating prompts\n",
    "prompts=[]\n",
    "for i in train_data[124:125].index:\n",
    "    prompt='extract code from the following paragraph:\\n\\n\\n'+train_data.iloc[i,1].replace('\\n','')\n",
    "    \n",
    "    # predict\n",
    "    # text = \"def hello_world():\"\n",
    "    # text = prompt\n",
    "    # input_ids = tokenizer(text, return_tensors=\"pt\").input_ids\n",
    "    # generated_ids = model.generate(input_ids, max_length=128)\n",
    "    # res=tokenizer.decode(generated_ids[0], skip_special_tokens=True)\n",
    "\n",
    "    tokenizer.pad_token = tokenizer.eos_token\n",
    "    inputs = tokenizer(prompt, return_tensors=\"pt\", truncation=True, max_length=4096)\n",
    "\n",
    "    # Generate\n",
    "    generate_ids = model.generate(inputs.input_ids, max_new_tokens=256, do_sample=True, top_p=0.75, top_k=40, temperature=0.1)\n",
    "    completion = tokenizer.batch_decode(generate_ids, skip_special_tokens=True, clean_up_tokenization_spaces=False)[0]\n",
    "    completion = completion.replace(prompt, \"\").split(\"\\n\\n\\n\")[0]\n",
    "    res=completion\n",
    "\n",
    "    print('-----------------------text----------------')\n",
    "    pprint(prompt)\n",
    "    print('-------------------------res------------------')\n",
    "    pprint(res)\n",
    "\n",
    "    \n"
   ]
  }
 ],
 "metadata": {
  "kernelspec": {
   "display_name": "Python 3",
   "language": "python",
   "name": "python3"
  },
  "language_info": {
   "codemirror_mode": {
    "name": "ipython",
    "version": 3
   },
   "file_extension": ".py",
   "mimetype": "text/x-python",
   "name": "python",
   "nbconvert_exporter": "python",
   "pygments_lexer": "ipython3",
   "version": "3.10.10"
  },
  "orig_nbformat": 4
 },
 "nbformat": 4,
 "nbformat_minor": 2
}
