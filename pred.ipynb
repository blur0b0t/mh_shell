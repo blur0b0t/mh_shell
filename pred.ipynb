{
 "cells": [
  {
   "cell_type": "code",
   "execution_count": 11,
   "metadata": {},
   "outputs": [],
   "source": [
    "# !pip install transformers\n",
    "import numpy as np\n",
    "import pandas as pd\n",
    "\n",
    "from tokenizers import AddedToken\n",
    "from transformers import T5Tokenizer"
   ]
  },
  {
   "cell_type": "code",
   "execution_count": 12,
   "metadata": {},
   "outputs": [],
   "source": [
    "data_path=\"data/datafinal.json\"\n",
    "ftraind_path=\"data/f_traind.csv\"\n",
    "fdata_path=\"data/f_data.csv\"\n",
    "\n",
    "\n",
    "submission_path=\"data/submission.csv\"\n",
    "\n",
    "# vars\n",
    "col_text='Text'\n",
    "col_cc='ContainsCode'\n",
    "col_cl='CodeList'\n"
   ]
  },
  {
   "cell_type": "code",
   "execution_count": 13,
   "metadata": {},
   "outputs": [
    {
     "data": {
      "text/plain": [
       "ID                                                             11\n",
       "Text            The field of software development is incredibl...\n",
       "ContainsCode                                                 True\n",
       "CodeList        #include <iostream> using namespace std; int m...\n",
       "Name: 10, dtype: object"
      ]
     },
     "execution_count": 13,
     "metadata": {},
     "output_type": "execute_result"
    }
   ],
   "source": [
    "full_data=pd.read_json(data_path)\n",
    "ftrain_data=pd.read_csv(ftraind_path)\n",
    "f_data=pd.read_csv(ftraind_path)\n",
    "\n",
    "train_data=full_data[full_data[col_cc]!=\"\"]\n",
    "test_data=full_data[full_data[col_cc]==\"\"]\n",
    "# pprint(train_data.iloc[1,1])\n",
    "train_data\n",
    "full_data.iloc[10]\n",
    "# full_data.to_csv(\"/home/u131168/mh_shell/data/datafinal.csv\")"
   ]
  },
  {
   "cell_type": "code",
   "execution_count": 14,
   "metadata": {},
   "outputs": [],
   "source": [
    "mh_dir='mh_shell'"
   ]
  },
  {
   "cell_type": "code",
   "execution_count": 15,
   "metadata": {},
   "outputs": [],
   "source": [
    "# !pip install bitsandbytes\n",
    "# !pip install accelerate\n",
    "# !pip install scipy\n",
    "# !pip install transformers\n",
    "# !pip install peft"
   ]
  },
  {
   "cell_type": "code",
   "execution_count": 16,
   "metadata": {},
   "outputs": [],
   "source": [
    "def getTokenizer():\n",
    "    \n",
    "    tokenizer = T5Tokenizer.from_pretrained(\"google/flan-t5-xl\")\n",
    "    # stokens_v1=[\"`\",\"~\",\"!\",\"@\",\"#\",\"$\",\"%\",\"^\",\"&\",\"*\",\"(\",\")\",\"-\",\"_\",\"+\",\"=\",\"{\",\"}\",\"[\",\"]\",\"|\",\"\\\\\",\":\",\";\",\"\\\"\",\"'\",\"<\",\">\",\"?\",\"/\",\"\\n\",\"\\t\",\" \"]\n",
    "    # stokens_v2=[\"{\",\"}\",\"<\",\"<<\"]\n",
    "    stokens_v3=[\"{\",\"}\",\"<\",\"`\",\"\\\\\"]\n",
    "\n",
    "    stokens=stokens_v3\n",
    "    for st in stokens:\n",
    "        tokenizer.add_tokens(AddedToken(st, normalized=False),special_tokens=False)\n",
    "    return tokenizer\n",
    "    \n",
    "    "
   ]
  },
  {
   "cell_type": "code",
   "execution_count": 17,
   "metadata": {},
   "outputs": [],
   "source": [
    "\n",
    "\n",
    "from peft import AutoPeftModelForSeq2SeqLM\n",
    "from transformers import AutoTokenizer\n",
    "import torch\n",
    "# model_path=\"google/flan-t5-xl\"\n",
    "# model_path=f\"/home/u131168/{mh_dir}/ft_models/flan-t5-xl_peft_finetuned_model/checkpoint-11700\"\n",
    "# model_path=f\"/home/u131168/{mh_dir}/ft_models/flan-t5-xl_mt5/checkpoint-34600\"\n",
    "\n",
    "model_path=f\"/home/u131168/{mh_dir}/ft_models/flan-t5-xl_mt5_v3/checkpoint-25000\"\n",
    "\n",
    "\n",
    "\n",
    "\n",
    "custom_model = AutoPeftModelForSeq2SeqLM.from_pretrained(model_path, )\n",
    "\n",
    "# tokenizer = T5Tokenizer.from_pretrained(model_path)\n",
    "# tokenizer = AutoTokenizer.from_pretrained(\"google/flan-t5-xl\")\n",
    "\n",
    "tokenizer=getTokenizer()\n",
    "custom_model.resize_token_embeddings(len(tokenizer))\n"
   ]
  },
  {
   "cell_type": "code",
   "execution_count": null,
   "metadata": {},
   "outputs": [
    {
     "ename": "",
     "evalue": "",
     "output_type": "error",
     "traceback": [
      "\u001b[1;31mThe kernel failed to start due to the missing module 'packaging'. Consider installing this module.\n",
      "\u001b[1;31mClick <a href='https://aka.ms/kernelFailuresMissingModule'>here</a> for more info."
     ]
    }
   ],
   "source": [
    "from pprint import pprint\n",
    "\n",
    "# p_count=50\n",
    "# psi,pei=58,68\n",
    "psi,pei=11,12\n",
    "\n",
    "# psi,pei=250,258\n",
    "# prompts = ftrain_data.loc[psi:pei,['input','instruction']].values.tolist()\n",
    "prompts = f_data.loc[psi:pei,['input','instruction']].values.tolist()\n",
    "\n",
    "# instruction=\"extract code snippets from the paragraph, if it does not contain code snippets then say none\"\n",
    "\n",
    "t_prompts=[]\n",
    "for p in prompts:\n",
    "    context=str(p[0])\n",
    "    question=p[1]\n",
    "    t_prompts.append([context, question])\n",
    "    # t_prompts+=[f\"input: {context}\\n\\ninstruction: {question}\"]\n",
    "\n",
    "prompts=t_prompts\n",
    "# prompts = ftrain_data.loc[:p_count,['input','instruction']].values.tolist()\n",
    "# pprint(prompts)"
   ]
  },
  {
   "cell_type": "code",
   "execution_count": null,
   "metadata": {},
   "outputs": [
    {
     "ename": "",
     "evalue": "",
     "output_type": "error",
     "traceback": [
      "\u001b[1;31mThe kernel failed to start due to the missing module 'packaging'. Consider installing this module.\n",
      "\u001b[1;31mClick <a href='https://aka.ms/kernelFailuresMissingModule'>here</a> for more info."
     ]
    }
   ],
   "source": []
  },
  {
   "cell_type": "code",
   "execution_count": null,
   "metadata": {},
   "outputs": [
    {
     "ename": "",
     "evalue": "",
     "output_type": "error",
     "traceback": [
      "\u001b[1;31mThe kernel failed to start due to the missing module 'packaging'. Consider installing this module.\n",
      "\u001b[1;31mClick <a href='https://aka.ms/kernelFailuresMissingModule'>here</a> for more info."
     ]
    }
   ],
   "source": [
    "\n",
    "\n",
    "\n",
    "# tokenizer = AutoTokenizer.from_pretrained(\"google/flan-t5-xl\")\n",
    "# tokenizer = AutoTokenizer.from_pretrained(\"bert-base-cased\")\n",
    "\n",
    "\n",
    "# stokens=[]\n",
    "# stokens=[\"{\", \"}\" ,\"\\n\",\"<\", \">\",\" \",'\\\\','/','^']\n",
    "# for st in stokens:\n",
    "    # tokenizer.add_tokens(AddedToken(st, normalized=False))\n",
    "\n",
    "\n",
    "# tokenizer.add_tokens(stokens,special_tokens=False)\n",
    "\n",
    "\n",
    "input_ids = tokenizer(prompts, return_tensors=\"pt\" ,padding=True,truncation=True, max_length=512).input_ids\n",
    "# sample up to 30 tokens\n",
    "torch.manual_seed(0)  # doctest: +IGNORE_RESULT\n",
    "outputs = custom_model.generate(input_ids=input_ids, do_sample=True, max_length=512)\n",
    "# pred_custom=tokenizer.batch_decode(outputs, skip_special_tokens=True,spaces_between_special_tokens = False)\n",
    "# pred_custom=tokenizer.batch_decode(outputs, skip_special_tokens=True)\n"
   ]
  },
  {
   "cell_type": "code",
   "execution_count": null,
   "metadata": {},
   "outputs": [
    {
     "ename": "",
     "evalue": "",
     "output_type": "error",
     "traceback": [
      "\u001b[1;31mThe kernel failed to start due to the missing module 'packaging'. Consider installing this module.\n",
      "\u001b[1;31mClick <a href='https://aka.ms/kernelFailuresMissingModule'>here</a> for more info."
     ]
    }
   ],
   "source": [
    "pred_custom=tokenizer.batch_decode(outputs, skip_special_tokens=True,spaces_between_special_tokens = False)\n",
    "\n",
    "# tokenizer = AutoTokenizer.from_pretrained(\"google/flan-t5-xl\")\n",
    "# stokens=[\"`\",\"~\",\"!\",\"@\",\"#\",\"$\",\"%\",\"^\",\"&\",\"*\",\"(\",\")\",\"-\",\"_\",\"+\",\"=\",\"{\",\"}\",\"[\",\"]\",\"|\",\"\\\\\",\":\",\";\",\"\\\"\",\"'\",\"<\",\">\",\"?\",\"/\",\"\\n\",\" \"]\n",
    "# for st in stokens:\n",
    "#     tokenizer.add_tokens(AddedToken(st, normalized=False),special_tokens=False)\n",
    "\n",
    "# pred_custom=tokenizer.batch_decode(outputs, skip_special_tokens=True,spaces_between_special_tokens = False)\n"
   ]
  },
  {
   "cell_type": "code",
   "execution_count": null,
   "metadata": {},
   "outputs": [
    {
     "ename": "",
     "evalue": "",
     "output_type": "error",
     "traceback": [
      "\u001b[1;31mThe kernel failed to start due to the missing module 'packaging'. Consider installing this module.\n",
      "\u001b[1;31mClick <a href='https://aka.ms/kernelFailuresMissingModule'>here</a> for more info."
     ]
    }
   ],
   "source": [
    "# # # !pip install transformers\n",
    "# # from transformers import AutoTokenizer\n",
    "# # from transformers import T5Tokenizer\n",
    "\n",
    "# # from tokenizers import AddedToken\n",
    "# text=\"int arr[5] = \\n\\{`~1,};:[ ]\\++++ - *&^%$#@!_+)'5>2,\"\n",
    "# # # text=\"int arr[5] = {1, 2, 3, 4, 5};', 'for(int i=0; i<5; i++) {cout << arr[i] << endl;}\"\n",
    "# # # text=\"function add(a, b) { \\n\\n<< return a + b; }\"\n",
    "\n",
    "# # # tokenizer = AutoTokenizer.from_pretrained(\"google/flan-t5-xl\")\n",
    "# tokenizer = T5Tokenizer.from_pretrained(\"google/flan-t5-xl\")\n",
    "# # # tokenizer = AutoTokenizer.from_pretrained(\"bert-base-cased\")\n",
    "\n",
    "# # stokens=[]\n",
    "# # stokens=[\"{\", \"}\" ,\"\\n\",\"<\",'\\\\','/','^',\" \",\"`\",\"~\"]\n",
    "# stokens=[\"`\",\"~\",\"!\",\"@\",\"#\",\"$\",\"%\",\"^\",\"&\",\"*\",\"(\",\")\",\"-\",\"_\",\"+\",\"=\",\"{\",\"}\",\"[\",\"]\",\"|\",\"\\\\\",\":\",\";\",\"\\\"\",\"'\",\"<\",\">\",\"?\",\"/\",\"\\n\",\" \"]\n",
    "# for st in stokens:\n",
    "#     tokenizer.add_tokens(AddedToken(st, normalized=False),special_tokens=False)\n",
    "\n",
    "# # # tokenizer.add_tokens([\"{\",\"}\",\"<\",\"\\n\"])\n",
    "# input_ids = tokenizer(text, return_tensors=\"pt\" ,padding=True,truncation=True, max_length=512).input_ids\n",
    "# # # pred_custom=tokenizer.batch_decode(outputs, skip_special_tokens=True)\n",
    "# print([text])\n",
    "# print(tokenizer.batch_decode(input_ids,skip_special_tokens=True,spaces_between_special_tokens = False))\n",
    "# print(tokenizer.batch_decode(input_ids,skip_special_tokens=True,))\n",
    "\n"
   ]
  },
  {
   "cell_type": "code",
   "execution_count": null,
   "metadata": {},
   "outputs": [
    {
     "ename": "",
     "evalue": "",
     "output_type": "error",
     "traceback": [
      "\u001b[1;31mThe kernel failed to start due to the missing module 'packaging'. Consider installing this module.\n",
      "\u001b[1;31mClick <a href='https://aka.ms/kernelFailuresMissingModule'>here</a> for more info."
     ]
    }
   ],
   "source": [
    "pred_custom_df=pd.DataFrame(pd.Series(pred_custom,name=\"pred_custom\"))\n",
    "# pred_ft5_df=pd.DataFrame(pd.Series(pred_ft5,name=\"pred_ft5\"))\n",
    "# temp_df=pd.concat([ftrain_data.iloc[psi:pei+1].reset_index(),pred_custom_df],axis=1)\n",
    "temp_df=pd.concat([f_data.iloc[psi:pei+1].reset_index(),pred_custom_df],axis=1)\n",
    "\n",
    "temp_df\n",
    "# pprint(temp_df.iloc[1,0])\n",
    "# print(temp_df.iloc[5,3])\n",
    "# print(temp_df.iloc[5,4])"
   ]
  },
  {
   "cell_type": "code",
   "execution_count": null,
   "metadata": {},
   "outputs": [
    {
     "ename": "",
     "evalue": "",
     "output_type": "error",
     "traceback": [
      "\u001b[1;31mThe kernel failed to start due to the missing module 'packaging'. Consider installing this module.\n",
      "\u001b[1;31mClick <a href='https://aka.ms/kernelFailuresMissingModule'>here</a> for more info."
     ]
    }
   ],
   "source": [
    "temp_df.iloc[8,1]"
   ]
  },
  {
   "cell_type": "code",
   "execution_count": null,
   "metadata": {},
   "outputs": [
    {
     "ename": "",
     "evalue": "",
     "output_type": "error",
     "traceback": [
      "\u001b[1;31mThe kernel failed to start due to the missing module 'packaging'. Consider installing this module.\n",
      "\u001b[1;31mClick <a href='https://aka.ms/kernelFailuresMissingModule'>here</a> for more info."
     ]
    }
   ],
   "source": [
    "# # !pip install tiktoken\n",
    "# # !pip install transformers\n",
    "# # model='Salesforce/codegen-350M-mono'\n",
    "# # model='Salesforce/codegen25-7b-instruct'\n",
    "# model=\"Phind/Phind-CodeLlama-34B-v1\"\n",
    "# import transformers\n",
    "# from transformers import AutoTokenizer, AutoModelForCausalLM\n",
    "# tokenizer = AutoTokenizer.from_pretrained(model, trust_remote_code=True)\n",
    "# model = AutoModelForCausalLM.from_pretrained(model)\n",
    "\n",
    "\n",
    "# # from transformers import AutoTokenizer, LlamaForCausalLM\n",
    "# # model_path = \"Phind/Phind-CodeLlama-34B-v1\"\n",
    "# # model = LlamaForCausalLM.from_pretrained(model_path, device_map=\"auto\")\n",
    "# # tokenizer = AutoTokenizer.from_pretrained(model_path)\n",
    "\n",
    "\n"
   ]
  },
  {
   "cell_type": "code",
   "execution_count": null,
   "metadata": {},
   "outputs": [
    {
     "ename": "",
     "evalue": "",
     "output_type": "error",
     "traceback": [
      "\u001b[1;31mThe kernel failed to start due to the missing module 'packaging'. Consider installing this module.\n",
      "\u001b[1;31mClick <a href='https://aka.ms/kernelFailuresMissingModule'>here</a> for more info."
     ]
    }
   ],
   "source": [
    "# from pprint import pprint\n",
    "# # creating prompts\n",
    "# prompts=[]\n",
    "# for i in train_data[124:125].index:\n",
    "#     prompt='extract code from the following paragraph:\\n\\n\\n'+train_data.iloc[i,1].replace('\\n','')\n",
    "    \n",
    "#     # predict\n",
    "#     # text = \"def hello_world():\"\n",
    "#     # text = prompt\n",
    "#     # input_ids = tokenizer(text, return_tensors=\"pt\").input_ids\n",
    "#     # generated_ids = model.generate(input_ids, max_length=128)\n",
    "#     # res=tokenizer.decode(generated_ids[0], skip_special_tokens=True)\n",
    "\n",
    "#     tokenizer.pad_token = tokenizer.eos_token\n",
    "#     inputs = tokenizer(prompt, return_tensors=\"pt\", truncation=True, max_length=4096)\n",
    "\n",
    "#     # Generate\n",
    "#     generate_ids = model.generate(inputs.input_ids, max_new_tokens=256, do_sample=True, top_p=0.75, top_k=40, temperature=0.1)\n",
    "#     completion = tokenizer.batch_decode(generate_ids, skip_special_tokens=True, clean_up_tokenization_spaces=False)[0]\n",
    "#     completion = completion.replace(prompt, \"\").split(\"\\n\\n\\n\")[0]\n",
    "#     res=completion\n",
    "\n",
    "#     print('-----------------------text----------------')\n",
    "#     pprint(prompt)\n",
    "#     print('-------------------------res------------------')\n",
    "#     pprint(res)\n",
    "\n",
    "    \n"
   ]
  }
 ],
 "metadata": {
  "kernelspec": {
   "display_name": "Python 3",
   "language": "python",
   "name": "python3"
  },
  "language_info": {
   "codemirror_mode": {
    "name": "ipython",
    "version": 3
   },
   "file_extension": ".py",
   "mimetype": "text/x-python",
   "name": "python",
   "nbconvert_exporter": "python",
   "pygments_lexer": "ipython3",
   "version": "3.10.11"
  },
  "orig_nbformat": 4
 },
 "nbformat": 4,
 "nbformat_minor": 2
}
